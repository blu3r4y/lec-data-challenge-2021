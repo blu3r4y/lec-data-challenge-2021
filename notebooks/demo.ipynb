{
 "cells": [
  {
   "cell_type": "code",
   "execution_count": null,
   "source": [
    "from nbfix import load_catalog\r\n",
    "\r\n",
    "from typing import Tuple\r\n",
    "\r\n",
    "import numpy as np\r\n",
    "import pandas as pd\r\n",
    "import matplotlib.pyplot as plt"
   ],
   "outputs": [],
   "metadata": {}
  },
  {
   "cell_type": "code",
   "execution_count": null,
   "source": [
    "catalog = load_catalog()\r\n",
    "\r\n",
    "X = catalog.load(\"train.features\")\r\n",
    "y = catalog.load(\"train.pressure\")\r\n",
    "\r\n",
    "df = pd.concat([X, y], axis=1)\r\n",
    "display(df)\r\n",
    "\r\n",
    "num_cycles = df[\"cycle\"].max()"
   ],
   "outputs": [],
   "metadata": {}
  },
  {
   "cell_type": "code",
   "execution_count": null,
   "source": [
    "from scipy.integrate import cumtrapz\r\n",
    "\r\n",
    "def compute_velocity(df: pd.DataFrame) -> pd.DataFrame:\r\n",
    "    def _compute_velocity_per_cycle(grp: pd.DataFrame):\r\n",
    "        vel = cumtrapz(grp[\"acc\"].abs(), grp[\"phi\"])\r\n",
    "        vel = np.insert(vel, 0, 0)\r\n",
    "\r\n",
    "        grp[\"vel\"] = vel\r\n",
    "        return grp\r\n",
    "\r\n",
    "    # compute velocity by integrating acceleration per cycle\r\n",
    "    df = df.groupby(\"cycle\").apply(_compute_velocity_per_cycle)\r\n",
    "\r\n",
    "    return df\r\n",
    "\r\n",
    "# df = compute_velocity(df)\r\n"
   ],
   "outputs": [],
   "metadata": {}
  },
  {
   "cell_type": "code",
   "execution_count": null,
   "source": [
    "def plot_cycle(n: int, figsize: Tuple[int, int] = (20, 5)):\r\n",
    "    c = df[df[\"cycle\"] == n]\r\n",
    "\r\n",
    "    # get a 3-axes figure\r\n",
    "    fig, ax1 = plt.subplots(figsize=figsize)\r\n",
    "    fig.subplots_adjust(right=0.75)\r\n",
    "    ax2, ax3 = ax1.twinx(), ax1.twinx()\r\n",
    "    ax3.spines.right.set_position((\"axes\", 1.2))\r\n",
    "\r\n",
    "    # plot the data\r\n",
    "    ax1.plot(c.phi, c.pa, c=\"green\")\r\n",
    "    ax1.set_ylabel(\"pressure\")\r\n",
    "\r\n",
    "    ax2.plot(c.phi, c.acc, c=\"gray\", ls=\":\", lw=0.5, marker=\".\")\r\n",
    "    ax2.set_ylabel(\"acceleration\")\r\n",
    "\r\n",
    "    ax3.plot(c.phi, c.vel_abs, c=\"orange\")\r\n",
    "    ax3.set_ylabel(\"velocity\")\r\n",
    "\r\n",
    "    # place dots at maximum\r\n",
    "    pa_max_xy = c.phi.iloc[c.pa.argmax()], c.pa.max()\r\n",
    "    ax1.plot(*pa_max_xy, c=\"green\", marker=\"v\", markersize=10)\r\n",
    "\r\n",
    "    vel_max_xy = c.phi.iloc[c.vel.argmax()], c.vel.max()\r\n",
    "    ax3.plot(*vel_max_xy, c=\"red\", marker=\"^\", markersize=10)\r\n",
    "\r\n",
    "    # grids, labels, titles\r\n",
    "    ax1.grid()\r\n",
    "    ax1.set_xlabel(\"crank angle\")\r\n",
    "    ax1.set_title(f\"cycle {n}\")\r\n",
    "\r\n",
    "    plt.show()"
   ],
   "outputs": [],
   "metadata": {}
  },
  {
   "cell_type": "code",
   "execution_count": null,
   "source": [
    "for i in np.random.randint(1, num_cycles + 1, size=10):\r\n",
    "    plot_cycle(i)\r\n"
   ],
   "outputs": [],
   "metadata": {}
  },
  {
   "cell_type": "code",
   "execution_count": null,
   "source": [],
   "outputs": [],
   "metadata": {}
  }
 ],
 "metadata": {
  "interpreter": {
   "hash": "beaa250f0070772cc615c243ec377dcf7c7943fd7370f8707e45b1eaf5607c81"
  },
  "kernelspec": {
   "name": "python3",
   "display_name": "Python 3.8.11 64-bit ('scratch38': conda)"
  },
  "language_info": {
   "codemirror_mode": {
    "name": "ipython",
    "version": 3
   },
   "file_extension": ".py",
   "mimetype": "text/x-python",
   "name": "python",
   "nbconvert_exporter": "python",
   "pygments_lexer": "ipython3",
   "version": "3.8.11"
  }
 },
 "nbformat": 4,
 "nbformat_minor": 4
}