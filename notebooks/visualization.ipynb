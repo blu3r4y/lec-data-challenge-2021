{
 "cells": [
  {
   "cell_type": "code",
   "execution_count": null,
   "source": [
    "from nbfix import load_catalog\r\n",
    "\r\n",
    "from typing import Tuple\r\n",
    "\r\n",
    "import numpy as np\r\n",
    "import pandas as pd\r\n",
    "import matplotlib.pyplot as plt\r\n",
    "\r\n",
    "from IPython.display import display\r\n",
    "from matplotlib.ticker import AutoMinorLocator, MultipleLocator\r\n",
    "\r\n",
    "pd.options.display.float_format = \"{:,.2f}\".format"
   ],
   "outputs": [],
   "metadata": {}
  },
  {
   "cell_type": "code",
   "execution_count": null,
   "source": [
    "catalog = load_catalog()\r\n",
    "\r\n",
    "df = pd.concat(\r\n",
    "    [\r\n",
    "        catalog.load(\"train.cycle\"),\r\n",
    "        catalog.load(\"train.clean\"),\r\n",
    "        catalog.load(\"train.pressure\"),\r\n",
    "        catalog.load(\"train.velocity\"),\r\n",
    "        catalog.load(\"train.rolling\"),\r\n",
    "        catalog.load(\"train.log\"),\r\n",
    "        catalog.load(\"train.sqrt\"),\r\n",
    "        catalog.load(\"train.model_mlp_out\", version=\"2021-08-23T20.54.45.745Z\").rename(\r\n",
    "            columns={0: \"pred1\", \"pa\": \"pred1\"}\r\n",
    "        ),\r\n",
    "        catalog.load(\"train.model_mlp_out\", version=\"2021-08-23T23.11.10.513Z\").rename(\r\n",
    "            columns={0: \"pred2\", \"pa\": \"pred2\"}\r\n",
    "        ),\r\n",
    "    ],\r\n",
    "    axis=1,\r\n",
    ")\r\n",
    "\r\n",
    "display(df)\r\n"
   ],
   "outputs": [],
   "metadata": {}
  },
  {
   "cell_type": "code",
   "execution_count": null,
   "source": [
    "def plot_cycle(n: int, figsize: Tuple[int, int] = (15, 5)):\r\n",
    "    c = df[df[\"cycle\"] == n]\r\n",
    "\r\n",
    "    # get a multi-axes figure\r\n",
    "    fig, ax1 = plt.subplots(figsize=figsize)\r\n",
    "    fig.subplots_adjust(right=0.75)\r\n",
    "    ax2, ax3, ax4 = ax1.twinx(), ax1.twinx(), ax1.twinx()\r\n",
    "    ax3.spines.right.set_position((\"axes\", 1.07))\r\n",
    "    ax4.spines.right.set_position((\"axes\", 1.14))\r\n",
    "\r\n",
    "    # plot the data\r\n",
    "    ax1.plot(c.phi, c.pa, c=\"lime\", label=\"pressure\", lw=4, alpha=0.6)\r\n",
    "    # ax1.plot(c.phi, c.pred1, c=\"fuchsia\", label=\"prediction 1\", lw=2, alpha=0.6)\r\n",
    "    ax1.plot(c.phi, c.pred2, c=\"fuchsia\", label=\"prediction\", lw=2, alpha=0.6)\r\n",
    "    ax1.set_ylabel(\"pressure\")\r\n",
    "\r\n",
    "    ax2.plot(c.phi, c.acc, c=\"gray\", label=\"acceleration\", ls=\":\", lw=0, markersize=1, marker=\".\")\r\n",
    "    ax2.set_ylabel(\"acceleration\")\r\n",
    "\r\n",
    "    ax3.plot(c.phi, c.vel_abs, c=\"goldenrod\", ls=\":\", label=\"velocity (absolute)\")\r\n",
    "    ax3.set_ylabel(\"velocity (absolute)\")\r\n",
    "\r\n",
    "    # ax4.plot(c.phi, c.roll_25_std, c=\"fuchsia\", ls=\"-\", label=\"rolling std 25\")\r\n",
    "    # ax4.plot(c.phi, c.roll_50_std, c=\"coral\", ls=\"-\", label=\"rolling std 50\")\r\n",
    "    ax4.plot(c.phi, c.roll_100_std, c=\"olive\", ls=\":\", label=\"ro'lling std 100\")\r\n",
    "    ax4.set_ylabel(\"rolling std\")\r\n",
    "\r\n",
    "    # place dots at maximum\r\n",
    "    pa_max_xy = c.phi.iloc[c.pa.argmax()], c.pa.max()\r\n",
    "    ax1.plot(*pa_max_xy, c=\"lime\", marker=\"v\", markersize=10, alpha=0.5)\r\n",
    "\r\n",
    "    acc_max_xy = c.phi.iloc[c.acc.argmax()], c.acc.max()\r\n",
    "    ax2.plot(*acc_max_xy, c=\"gray\", marker=\"^\", markersize=10, alpha=0.5)\r\n",
    "\r\n",
    "    # grids\r\n",
    "    ax1.xaxis.set_major_locator(MultipleLocator(30))\r\n",
    "    ax1.xaxis.set_minor_locator(AutoMinorLocator(6))\r\n",
    "\r\n",
    "    ax1.grid(which='major', color='#CCCCCC', linestyle='--')\r\n",
    "    ax1.grid(which='minor', color='#CCCCCC', linestyle=':')\r\n",
    "    \r\n",
    "    # labels, titles\r\n",
    "    ax1.set_xlabel(\"crank angle\")\r\n",
    "    ax1.set_title(f\"{n}\")\r\n",
    "\r\n",
    "    fig.legend(loc=\"upper right\", ncol=5)\r\n",
    "\r\n",
    "    plt.tight_layout()\r\n",
    "    plt.show()"
   ],
   "outputs": [],
   "metadata": {}
  },
  {
   "cell_type": "code",
   "execution_count": null,
   "source": [
    "with plt.style.context(\"dark_background\"):\r\n",
    "    for i in np.random.randint(1, df[\"cycle\"].max() + 1, size=30):\r\n",
    "        plot_cycle(i)"
   ],
   "outputs": [],
   "metadata": {}
  },
  {
   "cell_type": "code",
   "execution_count": null,
   "source": [],
   "outputs": [],
   "metadata": {}
  }
 ],
 "metadata": {
  "interpreter": {
   "hash": "beaa250f0070772cc615c243ec377dcf7c7943fd7370f8707e45b1eaf5607c81"
  },
  "kernelspec": {
   "name": "python3",
   "display_name": "Python 3.8.11 64-bit ('scratch38': conda)"
  },
  "language_info": {
   "codemirror_mode": {
    "name": "ipython",
    "version": 3
   },
   "file_extension": ".py",
   "mimetype": "text/x-python",
   "name": "python",
   "nbconvert_exporter": "python",
   "pygments_lexer": "ipython3",
   "version": "3.8.11"
  }
 },
 "nbformat": 4,
 "nbformat_minor": 4
}