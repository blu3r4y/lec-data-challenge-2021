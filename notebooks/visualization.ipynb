{
 "cells": [
  {
   "cell_type": "code",
   "execution_count": null,
   "source": [
    "from nbfix import load_catalog\r\n",
    "\r\n",
    "from typing import Tuple\r\n",
    "\r\n",
    "import numpy as np\r\n",
    "import pandas as pd\r\n",
    "import matplotlib.pyplot as plt\r\n",
    "\r\n",
    "from IPython.display import display\r\n",
    "from matplotlib.ticker import AutoMinorLocator, MultipleLocator\r\n"
   ],
   "outputs": [],
   "metadata": {}
  },
  {
   "cell_type": "code",
   "execution_count": null,
   "source": [
    "catalog = load_catalog()\r\n",
    "\r\n",
    "df = pd.concat(\r\n",
    "    [\r\n",
    "        catalog.load(\"train.cycle\"),\r\n",
    "        catalog.load(\"train.clean\"),\r\n",
    "        catalog.load(\"train.velocity\"),\r\n",
    "        catalog.load(\"train.rolling\"),\r\n",
    "        catalog.load(\"train.log\"),\r\n",
    "        catalog.load(\"train.sqrt\"),\r\n",
    "        catalog.load(\"train.pressure\"),\r\n",
    "        catalog.load(\"model_ridge_out\").rename(columns={\"pa\": \"pred\"}),\r\n",
    "    ],\r\n",
    "    axis=1,\r\n",
    ")\r\n",
    "display(df)\r\n",
    "\r\n",
    "num_cycles = df[\"cycle\"].max()\r\n"
   ],
   "outputs": [],
   "metadata": {}
  },
  {
   "cell_type": "code",
   "execution_count": null,
   "source": [
    "def plot_cycle(n: int, figsize: Tuple[int, int] = (20, 10)):\r\n",
    "    c = df[df[\"cycle\"] == n]\r\n",
    "\r\n",
    "    # get a multi-axes figure\r\n",
    "    fig, ax1 = plt.subplots(figsize=figsize)\r\n",
    "    fig.subplots_adjust(right=0.75)\r\n",
    "    ax2, ax3, ax4, ax5 = ax1.twinx(), ax1.twinx(), ax1.twinx(), ax1.twinx()\r\n",
    "    ax3.spines.right.set_position((\"axes\", 1.07))\r\n",
    "    ax4.spines.right.set_position((\"axes\", 1.14))\r\n",
    "    ax5.spines.right.set_position((\"axes\", 1.21))\r\n",
    "\r\n",
    "    # plot the data\r\n",
    "    ax1.plot(c.phi, c.pa, c=\"green\", label=\"pressure\", lw=3)\r\n",
    "    ax1.plot(c.phi, c.pred, c=\"green\", label=\"prediction\", ls=\":\", lw=2, alpha=0.5)\r\n",
    "    ax1.set_ylabel(\"pressure\")\r\n",
    "\r\n",
    "    ax2.plot(c.phi, c.acc, c=\"gray\", label=\"acceleration\", ls=\":\", lw=0, marker=\".\")\r\n",
    "    ax2.set_ylabel(\"acceleration\")\r\n",
    "\r\n",
    "    # ax3.plot(c.phi, c.vel, c=\"gold\", label=\"velocity\")\r\n",
    "    # ax3.set_ylabel(\"velocity\")\r\n",
    "\r\n",
    "    ax4.plot(c.phi, c.vel_abs, c=\"darkorange\", label=\"velocity (absolute)\")\r\n",
    "    ax4.set_ylabel(\"velocity (absolute)\")\r\n",
    "\r\n",
    "    ax5.plot(c.phi, c.roll_100_std, c=\"aqua\", ls=\"-\", label=\"rolling std 100\")\r\n",
    "    # ax5.plot(c.phi, c.roll_25_std, c=\"fuchsia\", ls=\"-\", label=\"rolling std 25\")\r\n",
    "    # ax5.plot(c.phi, c.roll_50_std, c=\"coral\", ls=\"-\", label=\"rolling std 50\")\r\n",
    "    ax5.set_ylabel(\"rolling std\")\r\n",
    "\r\n",
    "    # place dots at maximum\r\n",
    "    pa_max_xy = c.phi.iloc[c.pa.argmax()], c.pa.max()\r\n",
    "    ax1.plot(*pa_max_xy, c=\"green\", marker=\"v\", markersize=10)\r\n",
    "\r\n",
    "    vel_max_xy = c.phi.iloc[c.acc.abs().argmax()], c.acc.abs().max()\r\n",
    "    ax2.plot(*vel_max_xy, c=\"gray\", marker=\"^\", markersize=10)\r\n",
    "\r\n",
    "    vel_max_xy2 = c.phi.iloc[c.vel.argmax()], c.vel.max()\r\n",
    "    ax3.plot(*vel_max_xy2, c=\"gold\", marker=\"^\", markersize=10)\r\n",
    "\r\n",
    "    # grids\r\n",
    "    ax1.xaxis.set_major_locator(MultipleLocator(10))\r\n",
    "    ax1.xaxis.set_minor_locator(AutoMinorLocator(5))\r\n",
    "\r\n",
    "    ax1.grid(which='major', color='#CCCCCC', linestyle='--')\r\n",
    "    ax1.grid(which='minor', color='#CCCCCC', linestyle=':')\r\n",
    "    \r\n",
    "    # labels, titles\r\n",
    "    ax1.set_xlabel(\"crank angle\")\r\n",
    "    ax1.set_title(f\"cycle {n}\")\r\n",
    "\r\n",
    "    fig.legend(loc=\"upper center\", ncol=len(fig.axes))\r\n",
    "\r\n",
    "    plt.show()"
   ],
   "outputs": [],
   "metadata": {}
  },
  {
   "cell_type": "code",
   "execution_count": null,
   "source": [
    "for i in np.random.randint(1, num_cycles + 1, size=5):\r\n",
    "    plot_cycle(i)"
   ],
   "outputs": [],
   "metadata": {}
  },
  {
   "cell_type": "code",
   "execution_count": null,
   "source": [],
   "outputs": [],
   "metadata": {}
  }
 ],
 "metadata": {
  "interpreter": {
   "hash": "beaa250f0070772cc615c243ec377dcf7c7943fd7370f8707e45b1eaf5607c81"
  },
  "kernelspec": {
   "name": "python3",
   "display_name": "Python 3.8.11 64-bit ('scratch38': conda)"
  },
  "language_info": {
   "codemirror_mode": {
    "name": "ipython",
    "version": 3
   },
   "file_extension": ".py",
   "mimetype": "text/x-python",
   "name": "python",
   "nbconvert_exporter": "python",
   "pygments_lexer": "ipython3",
   "version": "3.8.11"
  }
 },
 "nbformat": 4,
 "nbformat_minor": 4
}