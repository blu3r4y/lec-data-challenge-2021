{
 "cells": [
  {
   "cell_type": "code",
   "execution_count": null,
   "source": [
    "from nbfix import load_catalog"
   ],
   "outputs": [],
   "metadata": {}
  },
  {
   "cell_type": "code",
   "execution_count": null,
   "source": [
    "catalog = load_catalog()"
   ],
   "outputs": [],
   "metadata": {}
  },
  {
   "cell_type": "code",
   "execution_count": null,
   "source": [
    "df = catalog.load(\"ldc_train_clean\")\r\n",
    "df.head()"
   ],
   "outputs": [],
   "metadata": {}
  }
 ],
 "metadata": {
  "orig_nbformat": 4,
  "language_info": {
   "name": "python",
   "version": "3.8.11",
   "mimetype": "text/x-python",
   "codemirror_mode": {
    "name": "ipython",
    "version": 3
   },
   "pygments_lexer": "ipython3",
   "nbconvert_exporter": "python",
   "file_extension": ".py"
  },
  "kernelspec": {
   "name": "python3",
   "display_name": "Python 3.8.11 64-bit ('scratch38': conda)"
  },
  "interpreter": {
   "hash": "beaa250f0070772cc615c243ec377dcf7c7943fd7370f8707e45b1eaf5607c81"
  }
 },
 "nbformat": 4,
 "nbformat_minor": 2
}